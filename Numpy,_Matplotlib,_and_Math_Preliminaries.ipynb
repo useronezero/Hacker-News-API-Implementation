{
  "nbformat": 4,
  "nbformat_minor": 0,
  "metadata": {
    "kernelspec": {
      "display_name": "Python 3",
      "language": "python",
      "name": "python3"
    },
    "language_info": {
      "codemirror_mode": {
        "name": "ipython",
        "version": 3
      },
      "file_extension": ".py",
      "mimetype": "text/x-python",
      "name": "python",
      "nbconvert_exporter": "python",
      "pygments_lexer": "ipython3",
      "version": "3.9.0"
    },
    "colab": {
      "name": "Numpy, Matplotlib, and Math Preliminaries.ipynb",
      "provenance": [],
      "collapsed_sections": [],
      "include_colab_link": true
    }
  },
  "cells": [
    {
      "cell_type": "markdown",
      "metadata": {
        "id": "view-in-github",
        "colab_type": "text"
      },
      "source": [
        "<a href=\"https://colab.research.google.com/github/useronezero/Hacker-News-API-Implementation/blob/master/Numpy%2C_Matplotlib%2C_and_Math_Preliminaries.ipynb\" target=\"_parent\"><img src=\"https://colab.research.google.com/assets/colab-badge.svg\" alt=\"Open In Colab\"/></a>"
      ]
    },
    {
      "cell_type": "markdown",
      "metadata": {
        "id": "RhLrhj6AqsyE"
      },
      "source": [
        "# Numpy, Matplotlib and Math preliminaries\n",
        "\n",
        "Numpy is a python library that provides data structures useful for data mining such as arrays, and various functions on those data structures. Follow [the official numpy tutorial](https://numpy.org/devdocs/user/quickstart.html) and familiarize yourself with numpy. Using only Numpy as an external library complete the following exercises.\n"
      ]
    },
    {
      "cell_type": "code",
      "metadata": {
        "id": "veuhBxFGqsyJ"
      },
      "source": [
        "import numpy as np"
      ],
      "execution_count": null,
      "outputs": []
    },
    {
      "cell_type": "markdown",
      "metadata": {
        "id": "5flPfD80qsyJ"
      },
      "source": [
        "\n",
        "## Excercise 1\n",
        "Given $\\overline{X} = (1,2,3,4,5,6,7,8,9,10)^T$ and $\\overline{Y} = (10,9,8,7,6,5,4,3,2,1)^T$ find\n",
        "\n",
        "1. $\\overline{X} + \\overline{Y}$\n",
        "2. $\\overline{X}^T \\overline{Y}$\n",
        "2. $\\overline{X}\\overline{Y}^T$\n"
      ]
    },
    {
      "cell_type": "code",
      "metadata": {
        "id": "JWztdJoZqsyK"
      },
      "source": [
        ""
      ],
      "execution_count": null,
      "outputs": []
    },
    {
      "cell_type": "markdown",
      "metadata": {
        "id": "z4KCglTwqsyK"
      },
      "source": [
        "---\n",
        "## Excercise 2\n",
        "Given two matrices \n",
        "$\\overline{A} = \\begin{pmatrix}1 & 2 & 3 & 4 & 5\\\\ 6 & 7 & 8 & 9 & 10\\\\ 11 & 12 & 13 & 14 & 15\\\\ 16 & 17 & 18 & 19 & 20\\\\ 21 & 22 & 23 & 24 & 25 \\end{pmatrix}$\n",
        "and \n",
        "$\\overline{B} = \\begin{pmatrix}0 & 1 & 0 & 1 & 0\\\\ 1 & 2 & 3 & 4 & 5\\\\ -1 & 0 & 1 & 0 & -1 \\\\ 5 & 4 & 3 & 2 & 5\\\\ -1 & 0 & 1 & 0 & -1 \\end{pmatrix}$\n",
        "\n",
        "1. Compute $\\overline{A} + \\overline{B}$\n",
        "2. Compute $\\overline{B} + \\overline{A}$. Is it equal to $\\overline{A} + \\overline{B}$? Is it always the case?\n",
        "3. Compute $\\overline{A} \\cdot \\overline{B}$\n",
        "4. Compute $\\overline{B} \\cdot \\overline{A}$. Is it equal to $\\overline{A} \\cdot \\overline{B}$?"
      ]
    },
    {
      "cell_type": "code",
      "metadata": {
        "id": "ZvmZdAiFqsyK"
      },
      "source": [
        ""
      ],
      "execution_count": null,
      "outputs": []
    },
    {
      "cell_type": "markdown",
      "metadata": {
        "id": "if6a9H0FqsyK"
      },
      "source": [
        "---\n",
        "## Excercise 3\n",
        "Compute the inverse of the following matrix\n",
        "$\\overline{A} = \\begin{pmatrix} 1 & 2 & 4\\\\ -2 & 1 & 5 \\\\1 & 2 & 3 \\end{pmatrix}$, if one exsits. Verify that the matrix product of $\\overline{A}$ and its inverse is the 3x3 identity matrix. "
      ]
    },
    {
      "cell_type": "code",
      "metadata": {
        "id": "LOJ3Ia7qqsyK"
      },
      "source": [
        ""
      ],
      "execution_count": null,
      "outputs": []
    },
    {
      "cell_type": "markdown",
      "metadata": {
        "id": "qAXDVEVkqsyL"
      },
      "source": [
        "---\n",
        "## Excercise 4\n",
        "Find the ranks of the following matrices\n",
        "$\\overline{A} = \\left(\\begin{matrix} 1 & 0 & 1 \\\\ 0 & 1 & 1\\\\ 0 & 0 & 0\\end{matrix}\\right)~$ and\n",
        "$~\\overline{B} = \\left(\\begin{matrix} 1 & 2 & 1 \\\\-2 & -3 & 1\\\\ 3 & 5 & 0\\end{matrix}\\right)$."
      ]
    },
    {
      "cell_type": "code",
      "metadata": {
        "id": "NlBiJLYiqsyL"
      },
      "source": [
        ""
      ],
      "execution_count": null,
      "outputs": []
    },
    {
      "cell_type": "markdown",
      "metadata": {
        "id": "6q5DrDRdqsyL"
      },
      "source": [
        "---\n",
        "## Excercise 5\n",
        "Find the eigenvalues of matrix\n",
        " $\\overline{A} = \\left(\\begin{matrix} 4 & 2\\\\ 1 & 3\\end{matrix}\\right)$"
      ]
    },
    {
      "cell_type": "code",
      "metadata": {
        "id": "cEXPYLlAqsyL"
      },
      "source": [
        ""
      ],
      "execution_count": null,
      "outputs": []
    },
    {
      "cell_type": "markdown",
      "metadata": {
        "id": "pA4EwMsoqsyL"
      },
      "source": [
        "---\n",
        "## Excercise 6\n",
        " \n",
        "For this excercise we will need [Matplotlib](https://matplotlib.org/index.html). Follow [the official Matplotlib tutorial](https://matplotlib.org/tutorials/introductory/pyplot.html#) and familiarize yourself with Matplotlib.\n",
        "\n",
        "Recall from the lecture the Gradient Descent method for finding local minimum of a function:\n",
        "\n",
        "1. Pick an initial point $\\overline{X}_0$\n",
        "2. Iterate according to $\\overline{X}_{i+1} = \\overline{X}_i - \\gamma \\cdot \\big((\\nabla_{\\overline{X}} f)(\\overline{X}_i) \\big)$\n",
        "\n",
        "\n",
        "Examine this method by trying to find the minimum of the function $f(x) = (x-3)^2$. More specifically, for every $\\gamma \\in \\{0.01, 0.1, 0.9, 1, 2\\}$:\n",
        "1. Plot the graph of $f(x) = (x-3)^2$\n",
        "2. Pick an intial point $x = -4$\n",
        "3. Run 20 interations of the methods \n",
        "4. In every iteration $i = 1, \\ldots, 20$, plot the point $(x_i, f(x_i))$ on the same plot as the graph of the function $f(x)$\n",
        "\n",
        "Interpret the results."
      ]
    },
    {
      "cell_type": "code",
      "metadata": {
        "id": "gjleihmpqsyL"
      },
      "source": [
        "import matplotlib.pyplot as plt"
      ],
      "execution_count": null,
      "outputs": []
    }
  ]
}